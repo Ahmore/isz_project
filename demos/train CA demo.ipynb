{
 "cells": [
  {
   "cell_type": "markdown",
   "metadata": {},
   "source": [
    "## Import requirements"
   ]
  },
  {
   "cell_type": "code",
   "execution_count": 1,
   "metadata": {},
   "outputs": [],
   "source": [
    "import numpy as np\n",
    "import matplotlib.pyplot as plt\n",
    "\n",
    "import tensorflow as tf\n",
    "\n",
    "%matplotlib inline\n",
    "plt.rcParams['figure.figsize'] = (10.0, 8.0) # set default size of plots\n",
    "plt.rcParams['image.interpolation'] = 'nearest'\n",
    "plt.rcParams['image.cmap'] = 'gray'\n",
    "\n",
    "import os\n",
    "import glob\n",
    "import pickle\n",
    "\n",
    "import sys\n",
    "sys.path.insert(0, '..')\n",
    "from ca_funcs import *\n",
    "from utils import *\n",
    "\n",
    "\n",
    "%load_ext autoreload\n",
    "%autoreload 2"
   ]
  },
  {
   "cell_type": "markdown",
   "metadata": {},
   "source": [
    "# Create a new model"
   ]
  },
  {
   "cell_type": "code",
   "execution_count": 2,
   "metadata": {
    "scrolled": false
   },
   "outputs": [],
   "source": [
    "from train_ca import *\n",
    "\n",
    "try:\n",
    "    tf.reset_default_graph()\n",
    "    sess.close()\n",
    "except:\n",
    "    pass\n",
    "sess = tf.InteractiveSession()\n",
    "\n",
    "wspan, hspan = 10, 10\n",
    "layer_dims = [100,100,100,100,100]\n",
    "\n",
    "test_model = ConvNet(sess, input_dim=(wspan,hspan), layer_dims=layer_dims, weight_scale=1e0)"
   ]
  },
  {
   "cell_type": "code",
   "execution_count": 7,
   "metadata": {},
   "outputs": [
    {
     "data": {
      "text/plain": [
       "<matplotlib.image.AxesImage at 0xb2a3dcb38>"
      ]
     },
     "execution_count": 7,
     "metadata": {},
     "output_type": "execute_result"
    },
    {
     "data": {
      "image/png": "[encoded data removed]",
      "text/plain": [
       "<Figure size 432x288 with 1 Axes>"
      ]
     },
     "metadata": {},
     "output_type": "display_data"
    }
   ],
   "source": [
    "# Run untrained model on test data\n",
    "X = test_model.X\n",
    "ca_model = test_model.ca_cnn(X)\n",
    "out = sess.run(ca_model, feed_dict={X: make_glider((10,10))})\n",
    "\n",
    "plt.imshow(out)"
   ]
  },
  {
   "cell_type": "markdown",
   "metadata": {},
   "source": [
    "# Train a new model"
   ]
  },
  {
   "cell_type": "code",
   "execution_count": 2,
   "metadata": {},
   "outputs": [],
   "source": [
    "from train_ca import *\n",
    "\n",
    "try:\n",
    "    tf.reset_default_graph()\n",
    "    sess.close()\n",
    "except:\n",
    "    pass\n",
    "sess = tf.InteractiveSession()"
   ]
  },
  {
   "cell_type": "code",
   "execution_count": 3,
   "metadata": {},
   "outputs": [
    {
     "name": "stdout",
     "output_type": "stream",
     "text": [
      "Epoch: 0001 cost=727148.993750000\n",
      "Epoch: 0151 cost=8.035618973\n",
      "Epoch: 0301 cost=6.478339553\n",
      "Epoch: 0451 cost=5.045743346\n",
      "Epoch: 0601 cost=3.301548845\n",
      "Epoch: 0751 cost=2.276217663\n",
      "Epoch: 0901 cost=0.748564085\n",
      "Epoch: 1051 cost=0.197094048\n",
      "Epoch: 1201 cost=0.045383141\n",
      "Epoch: 1351 cost=0.020902108\n"
     ]
    }
   ],
   "source": [
    "## Make training data\n",
    "batch_size, wspan, hspan = (100,10,10)\n",
    "\n",
    "X_train = np.random.choice([0,1], (batch_size, wspan, hspan), p=[.5,.5])\n",
    "gol = make_game_of_life()\n",
    "y_train_tf = gol(conv_cast(X_train))\n",
    "y_train = y_train_tf.eval()\n",
    "\n",
    "\n",
    "\n",
    "## Define model parameters\n",
    "layer_dims = [100, 100, 100, 100, 100, 100, 100, 100, 100, 100, 100, 100]\n",
    "learning_rate = 0.0001\n",
    "weight_scale = 1e0\n",
    "num_batches = 1\n",
    "training_epochs = 100\n",
    "batch_size = 10\n",
    "num_batches = 1\n",
    "training_epochs = 1500\n",
    "display_step = int(training_epochs/10)\n",
    "\n",
    "## Define model\n",
    "test_model = ConvNet(sess, input_dim=(wspan, hspan), layer_dims=layer_dims, weight_scale=weight_scale)\n",
    "X, y = test_model.X, test_model.y\n",
    "ca_model = test_model.ca_cnn(X)\n",
    "\n",
    "## Define loss and optimizer\n",
    "loss = tf.reduce_sum(tf.nn.l2_loss(ca_model - y))\n",
    "optimizer = tf.train.AdamOptimizer(learning_rate=learning_rate)\n",
    "train_op = optimizer.minimize(loss)\n",
    "\n",
    "\n",
    "## Re-initialize everything, since the optimizer needs to be initialized\n",
    "init = tf.global_variables_initializer()\n",
    "sess.run(init)\n",
    "\n",
    "## Now perform training\n",
    "all_losses = list()\n",
    "for epoch in range(training_epochs):\n",
    "\n",
    "    avg_cost = 0.0\n",
    "    avg_cost_rounded = 0.0\n",
    "    \n",
    "    for i in range(num_batches):\n",
    "        batch_indices = np.random.choice(range(X_train.shape[0]), batch_size)\n",
    "\n",
    "        for batch_ind in batch_indices:\n",
    "            X_batch, y_batch = X_train[batch_ind], y_train[batch_ind]\n",
    "            _, cost = sess.run([train_op, loss], feed_dict={X: X_batch, y: y_batch})\n",
    "\n",
    "            avg_cost += cost/(num_batches*batch_size)\n",
    "    all_losses.append(avg_cost)  \n",
    "    if epoch % display_step == 0:\n",
    "        print(\"Epoch:\", '%04d' % (epoch+1), \"cost={:.9f}\".format(avg_cost))"
   ]
  },
  {
   "cell_type": "code",
   "execution_count": 4,
   "metadata": {},
   "outputs": [
    {
     "data": {
      "text/plain": [
       "Text(0.5,1,'Observed Output')"
      ]
     },
     "execution_count": 4,
     "metadata": {},
     "output_type": "execute_result"
    },
    {
     "data": {
      "image/png": "[encoded data removed]",
      "text/plain": [
       "<Figure size 864x288 with 3 Axes>"
      ]
     },
     "metadata": {},
     "output_type": "display_data"
    }
   ],
   "source": [
    "X_test = make_glider(10)\n",
    "\n",
    "gol = make_game_of_life()\n",
    "y_test_tf = gol(conv_cast(X_test[np.newaxis,...]))\n",
    "y_test = np.squeeze(y_test_tf.eval())\n",
    "\n",
    "y_pred_test = sess.run(ca_model, feed_dict={X: X_test})\n",
    "\n",
    "plt.figure(figsize=(12,4))\n",
    "plt.subplot(1,3,1)\n",
    "plt.imshow(X_test)\n",
    "plt.axis('off')\n",
    "plt.title(\"Input\")\n",
    "\n",
    "\n",
    "plt.subplot(1,3,2)\n",
    "plt.imshow(y_test)\n",
    "plt.axis('off')\n",
    "plt.title(\"Expected Output\")\n",
    "\n",
    "plt.subplot(1,3,3)\n",
    "plt.imshow(y_pred_test)\n",
    "plt.axis('off')\n",
    "plt.title(\"Observed Output\")\n"
   ]
  },
  {
   "cell_type": "code",
   "execution_count": 8,
   "metadata": {},
   "outputs": [
    {
     "name": "stdout",
     "output_type": "stream",
     "text": [
      "INFO:tensorflow:convca/resources/test_model.ckpt is not in all_model_checkpoint_paths. Manually adding it.\n",
      "convca/resources/test_model.ckpt\n"
     ]
    }
   ],
   "source": [
    "## Save the model\n",
    "saver = tf.train.Saver(max_to_keep=None)\n",
    "save_str = 'convca/resources/test_model.ckpt'\n",
    "saver.save(sess, save_str)\n",
    "print(save_str)"
   ]
  },
  {
   "cell_type": "markdown",
   "metadata": {},
   "source": [
    "# Loading a saved model"
   ]
  },
  {
   "cell_type": "code",
   "execution_count": 4,
   "metadata": {},
   "outputs": [],
   "source": [
    "from train_ca import *\n",
    "\n",
    "try:\n",
    "    tf.reset_default_graph()\n",
    "    sess.close()\n",
    "except:\n",
    "    pass\n",
    "sess = tf.InteractiveSession()"
   ]
  },
  {
   "cell_type": "code",
   "execution_count": 5,
   "metadata": {},
   "outputs": [
    {
     "name": "stdout",
     "output_type": "stream",
     "text": [
      "12.0 layers detected\n",
      "INFO:tensorflow:Restoring parameters from ../resources/test_model.ckpt\n"
     ]
    }
   ],
   "source": [
    "wspan, hspan = 10, 10\n",
    "model_str = '../resources/test_model.ckpt'\n",
    "\n",
    "\n",
    "## Define model\n",
    "test_model = ConvNet(sess, ckpt_path=model_str, input_dim=(wspan,hspan))\n",
    "X, y = test_model.X, test_model.y\n",
    "ca_model = test_model.ca_cnn(X)"
   ]
  },
  {
   "cell_type": "code",
   "execution_count": 6,
   "metadata": {},
   "outputs": [
    {
     "data": {
      "text/plain": [
       "Text(0.5,1,'Observed Output')"
      ]
     },
     "execution_count": 6,
     "metadata": {},
     "output_type": "execute_result"
    },
    {
     "data": {
      "image/png": "[encoded data removed]",
      "text/plain": [
       "<Figure size 864x288 with 3 Axes>"
      ]
     },
     "metadata": {},
     "output_type": "display_data"
    }
   ],
   "source": [
    "X_test = make_glider(10)\n",
    "\n",
    "gol = make_game_of_life()\n",
    "y_test_tf = gol(conv_cast(X_test[np.newaxis,...]))\n",
    "y_test = np.squeeze(y_test_tf.eval())\n",
    "\n",
    "y_pred_test = sess.run(ca_model, feed_dict={X: X_test})\n",
    "\n",
    "plt.figure(figsize=(12,4))\n",
    "plt.subplot(1,3,1)\n",
    "plt.imshow(X_test)\n",
    "plt.axis('off')\n",
    "plt.title(\"Input\")\n",
    "\n",
    "\n",
    "plt.subplot(1,3,2)\n",
    "plt.imshow(y_test)\n",
    "plt.axis('off')\n",
    "plt.title(\"Expected Output\")\n",
    "\n",
    "plt.subplot(1,3,3)\n",
    "plt.imshow(y_pred_test)\n",
    "plt.axis('off')\n",
    "plt.title(\"Observed Output\")\n"
   ]
  },
  {
   "cell_type": "code",
   "execution_count": null,
   "metadata": {},
   "outputs": [],
   "source": []
  },
  {
   "cell_type": "code",
   "execution_count": null,
   "metadata": {},
   "outputs": [],
   "source": []
  },
  {
   "cell_type": "code",
   "execution_count": null,
   "metadata": {},
   "outputs": [],
   "source": []
  },
  {
   "cell_type": "code",
   "execution_count": null,
   "metadata": {},
   "outputs": [],
   "source": []
  },
  {
   "cell_type": "code",
   "execution_count": null,
   "metadata": {},
   "outputs": [],
   "source": []
  },
  {
   "cell_type": "code",
   "execution_count": null,
   "metadata": {},
   "outputs": [],
   "source": []
  },
  {
   "cell_type": "code",
   "execution_count": null,
   "metadata": {},
   "outputs": [],
   "source": []
  }
 ],
 "metadata": {
  "kernelspec": {
   "display_name": "Python 3",
   "language": "python",
   "name": "python3"
  },
  "language_info": {
   "codemirror_mode": {
    "name": "ipython",
    "version": 3
   },
   "file_extension": ".py",
   "mimetype": "text/x-python",
   "name": "python",
   "nbconvert_exporter": "python",
   "pygments_lexer": "ipython3",
   "version": "3.6.5"
  }
 },
 "nbformat": 4,
 "nbformat_minor": 2
}
