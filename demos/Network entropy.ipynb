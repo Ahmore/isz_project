{
 "cells": [
  {
   "cell_type": "code",
   "execution_count": 1,
   "metadata": {},
   "outputs": [
    {
     "name": "stderr",
     "output_type": "stream",
     "text": [
      "c:\\users\\darek\\appdata\\local\\programs\\python\\python36\\lib\\site-packages\\h5py\\__init__.py:36: FutureWarning: Conversion of the second argument of issubdtype from `float` to `np.floating` is deprecated. In future, it will be treated as `np.float64 == np.dtype(float).type`.\n",
      "  from ._conv import register_converters as _register_converters\n"
     ]
    }
   ],
   "source": [
    "import numpy as np\n",
    "import matplotlib.pyplot as plt\n",
    "\n",
    "import tensorflow as tf\n",
    "\n",
    "%matplotlib inline\n",
    "plt.rcParams['figure.figsize'] = (10.0, 8.0) # set default size of plots\n",
    "plt.rcParams['image.interpolation'] = 'nearest'\n",
    "plt.rcParams['image.cmap'] = 'gray'\n",
    "\n",
    "import os\n",
    "import glob\n",
    "import pickle\n",
    "\n",
    "import sys\n",
    "sys.path.insert(0, '..')\n",
    "from ca_funcs import *\n",
    "from utils import *\n",
    "\n",
    "\n",
    "%load_ext autoreload\n",
    "%autoreload 2"
   ]
  },
  {
   "cell_type": "code",
   "execution_count": 66,
   "metadata": {},
   "outputs": [
    {
     "name": "stdout",
     "output_type": "stream",
     "text": [
      "12.0 layers detected\n",
      "INFO:tensorflow:Restoring parameters from ../resources/test_model.ckpt\n",
      "1.6812424590621708\n",
      "[1.6812424590621708, 1.6812424590621708, 1.6812424590621708, 1.6812424590621706, 1.6812424590621706, 1.6812424590621708, 1.6812424590621706, 1.5463137138648348, 1.6812424590621708, 1.6812424590621708, 1.6812424590621708, 0.7811884030780173]\n"
     ]
    }
   ],
   "source": [
    "from train_ca import *\n",
    "\n",
    "try:\n",
    "    tf.reset_default_graph()\n",
    "    sess.close()\n",
    "except:\n",
    "    pass\n",
    "sess = tf.InteractiveSession()\n",
    "\n",
    "wspan, hspan = 10, 10\n",
    "model_str = '../resources/test_model.ckpt'\n",
    "\n",
    "## Define model\n",
    "test_model = ConvNet(sess, ckpt_path=model_str, input_dim=(wspan,hspan))\n",
    "\n",
    "## Define input\n",
    "X_test = make_glider(10)\n",
    "\n",
    "## Run model and return features\n",
    "features = test_model.get_features([X_test])\n",
    "\n",
    "## Count entropies \n",
    "(whole_ent, layer_ent, neuron_ent)  = get_network_entropies(features)\n",
    "print(whole_ent)\n",
    "print(layer_ent)\n",
    "# print(neuron_ent)"
   ]
  },
  {
   "cell_type": "code",
   "execution_count": null,
   "metadata": {},
   "outputs": [],
   "source": []
  }
 ],
 "metadata": {
  "kernelspec": {
   "display_name": "Python 3",
   "language": "python",
   "name": "python3"
  },
  "language_info": {
   "codemirror_mode": {
    "name": "ipython",
    "version": 3
   },
   "file_extension": ".py",
   "mimetype": "text/x-python",
   "name": "python",
   "nbconvert_exporter": "python",
   "pygments_lexer": "ipython3",
   "version": "3.6.5"
  }
 },
 "nbformat": 4,
 "nbformat_minor": 2
}
